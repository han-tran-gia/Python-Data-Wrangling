{
 "cells": [
  {
   "cell_type": "code",
   "execution_count": 1,
   "id": "7197ec32",
   "metadata": {},
   "outputs": [],
   "source": [
    "import pandas as pd\n",
    "import numpy as np\n",
    "import datetime"
   ]
  },
  {
   "cell_type": "code",
   "execution_count": 2,
   "id": "a5f45843",
   "metadata": {},
   "outputs": [],
   "source": [
    "prices = pd.read_csv('prices.csv')\n",
    "sales = pd.read_csv('sales.csv')\n",
    "prices['updated_at'] = pd.to_datetime(prices['updated_at'])\n",
    "sales['ordered_at'] = pd.to_datetime(sales['ordered_at'])"
   ]
  },
  {
   "cell_type": "code",
   "execution_count": 3,
   "id": "4b0efe78",
   "metadata": {},
   "outputs": [],
   "source": [
    "#Sort values\n",
    "sort_prices = prices.sort_values('updated_at')\n",
    "sort_sales = sales.sort_values('ordered_at')"
   ]
  },
  {
   "cell_type": "code",
   "execution_count": 4,
   "id": "b295e660",
   "metadata": {},
   "outputs": [],
   "source": [
    "#Merge sales table & prices table\n",
    "combine_backward = pd.merge_asof(sort_sales, sort_prices, by = 'product_id', left_on = ['ordered_at'], right_on = ['updated_at'], direction = 'backward')\n",
    "combine_backward['final_price'] = combine_backward['new_price']\n",
    "combine_forward = pd.merge_asof(sort_sales, sort_prices, by = 'product_id', left_on = ['ordered_at'], right_on = ['updated_at'], direction = 'forward')\n",
    "combine_forward['final_price'] = combine_forward['old_price']"
   ]
  },
  {
   "cell_type": "code",
   "execution_count": 5,
   "id": "22e63349",
   "metadata": {},
   "outputs": [],
   "source": [
    "#Remove null values in combine_backward\n",
    "drop_na_bw = combine_backward.dropna()"
   ]
  },
  {
   "cell_type": "code",
   "execution_count": 6,
   "id": "5b8ac344",
   "metadata": {},
   "outputs": [],
   "source": [
    "#Filter values from combine_foward\n",
    "combine_fw_drop_bw = combine_forward.merge(drop_na_bw, on = ['product_id', 'ordered_at'], how = 'left', indicator = True)\n",
    "drop_list = combine_fw_drop_bw.loc[combine_fw_drop_bw['_merge'] == 'left_only','ordered_at']\n",
    "add_value = combine_forward[combine_forward['ordered_at'].isin(drop_list)]"
   ]
  },
  {
   "cell_type": "code",
   "execution_count": 7,
   "id": "bb2d4b05",
   "metadata": {},
   "outputs": [
    {
     "name": "stdout",
     "output_type": "stream",
     "text": [
      "   product_id    revenue\n",
      "0          64   956000.0\n",
      "1     3954203   877500.0\n",
      "2     3998909   280500.0\n",
      "3     4085861  8247500.0\n"
     ]
    }
   ],
   "source": [
    "#Union tables\n",
    "combine = pd.concat([drop_na_bw, add_value], ignore_index = True)\n",
    "combine['revenue'] = combine['final_price'] * combine['quantity_ordered']\n",
    "get_data = combine.groupby(['product_id','final_price']).agg({'revenue':'sum'})\n",
    "result = get_data.groupby('product_id').agg({'revenue':'sum'})\n",
    "print(result.reset_index())"
   ]
  }
 ],
 "metadata": {
  "kernelspec": {
   "display_name": "Python 3 (ipykernel)",
   "language": "python",
   "name": "python3"
  },
  "language_info": {
   "codemirror_mode": {
    "name": "ipython",
    "version": 3
   },
   "file_extension": ".py",
   "mimetype": "text/x-python",
   "name": "python",
   "nbconvert_exporter": "python",
   "pygments_lexer": "ipython3",
   "version": "3.10.9"
  }
 },
 "nbformat": 4,
 "nbformat_minor": 5
}
